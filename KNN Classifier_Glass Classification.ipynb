{
 "cells": [
  {
   "cell_type": "markdown",
   "id": "0a267ab5",
   "metadata": {},
   "source": [
    "### Prepare model for Glass Classification\n",
    "### KNN Classification Model"
   ]
  },
  {
   "cell_type": "code",
   "execution_count": 1,
   "id": "399288f6",
   "metadata": {},
   "outputs": [],
   "source": [
    "# Importing the libraries\n",
    "import pandas as pd\n",
    "import numpy as np\n",
    "import matplotlib.pyplot as plt\n",
    "import seaborn as sns\n",
    "\n",
    "import warnings\n",
    "warnings.filterwarnings('ignore')"
   ]
  },
  {
   "cell_type": "code",
   "execution_count": 53,
   "id": "9476bbbf",
   "metadata": {},
   "outputs": [
    {
     "data": {
      "text/html": [
       "<div>\n",
       "<style scoped>\n",
       "    .dataframe tbody tr th:only-of-type {\n",
       "        vertical-align: middle;\n",
       "    }\n",
       "\n",
       "    .dataframe tbody tr th {\n",
       "        vertical-align: top;\n",
       "    }\n",
       "\n",
       "    .dataframe thead th {\n",
       "        text-align: right;\n",
       "    }\n",
       "</style>\n",
       "<table border=\"1\" class=\"dataframe\">\n",
       "  <thead>\n",
       "    <tr style=\"text-align: right;\">\n",
       "      <th></th>\n",
       "      <th>RI</th>\n",
       "      <th>Na</th>\n",
       "      <th>Mg</th>\n",
       "      <th>Al</th>\n",
       "      <th>Si</th>\n",
       "      <th>K</th>\n",
       "      <th>Ca</th>\n",
       "      <th>Ba</th>\n",
       "      <th>Fe</th>\n",
       "      <th>Type</th>\n",
       "    </tr>\n",
       "  </thead>\n",
       "  <tbody>\n",
       "    <tr>\n",
       "      <th>0</th>\n",
       "      <td>1.52101</td>\n",
       "      <td>13.64</td>\n",
       "      <td>4.49</td>\n",
       "      <td>1.10</td>\n",
       "      <td>71.78</td>\n",
       "      <td>0.06</td>\n",
       "      <td>8.75</td>\n",
       "      <td>0.0</td>\n",
       "      <td>0.0</td>\n",
       "      <td>1</td>\n",
       "    </tr>\n",
       "    <tr>\n",
       "      <th>1</th>\n",
       "      <td>1.51761</td>\n",
       "      <td>13.89</td>\n",
       "      <td>3.60</td>\n",
       "      <td>1.36</td>\n",
       "      <td>72.73</td>\n",
       "      <td>0.48</td>\n",
       "      <td>7.83</td>\n",
       "      <td>0.0</td>\n",
       "      <td>0.0</td>\n",
       "      <td>1</td>\n",
       "    </tr>\n",
       "    <tr>\n",
       "      <th>2</th>\n",
       "      <td>1.51618</td>\n",
       "      <td>13.53</td>\n",
       "      <td>3.55</td>\n",
       "      <td>1.54</td>\n",
       "      <td>72.99</td>\n",
       "      <td>0.39</td>\n",
       "      <td>7.78</td>\n",
       "      <td>0.0</td>\n",
       "      <td>0.0</td>\n",
       "      <td>1</td>\n",
       "    </tr>\n",
       "    <tr>\n",
       "      <th>3</th>\n",
       "      <td>1.51766</td>\n",
       "      <td>13.21</td>\n",
       "      <td>3.69</td>\n",
       "      <td>1.29</td>\n",
       "      <td>72.61</td>\n",
       "      <td>0.57</td>\n",
       "      <td>8.22</td>\n",
       "      <td>0.0</td>\n",
       "      <td>0.0</td>\n",
       "      <td>1</td>\n",
       "    </tr>\n",
       "    <tr>\n",
       "      <th>4</th>\n",
       "      <td>1.51742</td>\n",
       "      <td>13.27</td>\n",
       "      <td>3.62</td>\n",
       "      <td>1.24</td>\n",
       "      <td>73.08</td>\n",
       "      <td>0.55</td>\n",
       "      <td>8.07</td>\n",
       "      <td>0.0</td>\n",
       "      <td>0.0</td>\n",
       "      <td>1</td>\n",
       "    </tr>\n",
       "  </tbody>\n",
       "</table>\n",
       "</div>"
      ],
      "text/plain": [
       "        RI     Na    Mg    Al     Si     K    Ca   Ba   Fe  Type\n",
       "0  1.52101  13.64  4.49  1.10  71.78  0.06  8.75  0.0  0.0     1\n",
       "1  1.51761  13.89  3.60  1.36  72.73  0.48  7.83  0.0  0.0     1\n",
       "2  1.51618  13.53  3.55  1.54  72.99  0.39  7.78  0.0  0.0     1\n",
       "3  1.51766  13.21  3.69  1.29  72.61  0.57  8.22  0.0  0.0     1\n",
       "4  1.51742  13.27  3.62  1.24  73.08  0.55  8.07  0.0  0.0     1"
      ]
     },
     "execution_count": 53,
     "metadata": {},
     "output_type": "execute_result"
    }
   ],
   "source": [
    "# Reading the dataset\n",
    "data=pd.read_csv(\"D:\\ExcelR Data Science\\Assignments\\KNN\\glass.csv\")\n",
    "data.head()"
   ]
  },
  {
   "cell_type": "code",
   "execution_count": 54,
   "id": "2a763375",
   "metadata": {},
   "outputs": [
    {
     "data": {
      "text/plain": [
       "(214, 10)"
      ]
     },
     "execution_count": 54,
     "metadata": {},
     "output_type": "execute_result"
    }
   ],
   "source": [
    "data.shape"
   ]
  },
  {
   "cell_type": "markdown",
   "id": "de7617ea",
   "metadata": {},
   "source": [
    "#### Review on General properties"
   ]
  },
  {
   "cell_type": "code",
   "execution_count": 57,
   "id": "629f7c12",
   "metadata": {},
   "outputs": [
    {
     "data": {
      "text/plain": [
       "0"
      ]
     },
     "execution_count": 57,
     "metadata": {},
     "output_type": "execute_result"
    }
   ],
   "source": [
    "data.isnull().any().sum()"
   ]
  },
  {
   "cell_type": "code",
   "execution_count": 58,
   "id": "98c0d21b",
   "metadata": {},
   "outputs": [
    {
     "data": {
      "text/html": [
       "<div>\n",
       "<style scoped>\n",
       "    .dataframe tbody tr th:only-of-type {\n",
       "        vertical-align: middle;\n",
       "    }\n",
       "\n",
       "    .dataframe tbody tr th {\n",
       "        vertical-align: top;\n",
       "    }\n",
       "\n",
       "    .dataframe thead th {\n",
       "        text-align: right;\n",
       "    }\n",
       "</style>\n",
       "<table border=\"1\" class=\"dataframe\">\n",
       "  <thead>\n",
       "    <tr style=\"text-align: right;\">\n",
       "      <th></th>\n",
       "      <th>RI</th>\n",
       "      <th>Na</th>\n",
       "      <th>Mg</th>\n",
       "      <th>Al</th>\n",
       "      <th>Si</th>\n",
       "      <th>K</th>\n",
       "      <th>Ca</th>\n",
       "      <th>Ba</th>\n",
       "      <th>Fe</th>\n",
       "      <th>Type</th>\n",
       "    </tr>\n",
       "  </thead>\n",
       "  <tbody>\n",
       "    <tr>\n",
       "      <th>39</th>\n",
       "      <td>1.52213</td>\n",
       "      <td>14.21</td>\n",
       "      <td>3.82</td>\n",
       "      <td>0.47</td>\n",
       "      <td>71.77</td>\n",
       "      <td>0.11</td>\n",
       "      <td>9.57</td>\n",
       "      <td>0.0</td>\n",
       "      <td>0.0</td>\n",
       "      <td>1</td>\n",
       "    </tr>\n",
       "  </tbody>\n",
       "</table>\n",
       "</div>"
      ],
      "text/plain": [
       "         RI     Na    Mg    Al     Si     K    Ca   Ba   Fe  Type\n",
       "39  1.52213  14.21  3.82  0.47  71.77  0.11  9.57  0.0  0.0     1"
      ]
     },
     "execution_count": 58,
     "metadata": {},
     "output_type": "execute_result"
    }
   ],
   "source": [
    "data[data.duplicated()]"
   ]
  },
  {
   "cell_type": "code",
   "execution_count": 59,
   "id": "53ccf45d",
   "metadata": {},
   "outputs": [
    {
     "data": {
      "text/plain": [
       "(214, 10)"
      ]
     },
     "execution_count": 59,
     "metadata": {},
     "output_type": "execute_result"
    }
   ],
   "source": [
    "data.shape"
   ]
  },
  {
   "cell_type": "code",
   "execution_count": 60,
   "id": "4059d530",
   "metadata": {},
   "outputs": [
    {
     "data": {
      "text/html": [
       "<div>\n",
       "<style scoped>\n",
       "    .dataframe tbody tr th:only-of-type {\n",
       "        vertical-align: middle;\n",
       "    }\n",
       "\n",
       "    .dataframe tbody tr th {\n",
       "        vertical-align: top;\n",
       "    }\n",
       "\n",
       "    .dataframe thead th {\n",
       "        text-align: right;\n",
       "    }\n",
       "</style>\n",
       "<table border=\"1\" class=\"dataframe\">\n",
       "  <thead>\n",
       "    <tr style=\"text-align: right;\">\n",
       "      <th></th>\n",
       "      <th>RI</th>\n",
       "      <th>Na</th>\n",
       "      <th>Mg</th>\n",
       "      <th>Al</th>\n",
       "      <th>Si</th>\n",
       "      <th>K</th>\n",
       "      <th>Ca</th>\n",
       "      <th>Ba</th>\n",
       "      <th>Fe</th>\n",
       "      <th>Type</th>\n",
       "    </tr>\n",
       "  </thead>\n",
       "  <tbody>\n",
       "    <tr>\n",
       "      <th>count</th>\n",
       "      <td>214.000000</td>\n",
       "      <td>214.000000</td>\n",
       "      <td>214.000000</td>\n",
       "      <td>214.000000</td>\n",
       "      <td>214.000000</td>\n",
       "      <td>214.000000</td>\n",
       "      <td>214.000000</td>\n",
       "      <td>214.000000</td>\n",
       "      <td>214.000000</td>\n",
       "      <td>214.000000</td>\n",
       "    </tr>\n",
       "    <tr>\n",
       "      <th>mean</th>\n",
       "      <td>1.518365</td>\n",
       "      <td>13.407850</td>\n",
       "      <td>2.684533</td>\n",
       "      <td>1.444907</td>\n",
       "      <td>72.650935</td>\n",
       "      <td>0.497056</td>\n",
       "      <td>8.956963</td>\n",
       "      <td>0.175047</td>\n",
       "      <td>0.057009</td>\n",
       "      <td>2.780374</td>\n",
       "    </tr>\n",
       "    <tr>\n",
       "      <th>std</th>\n",
       "      <td>0.003037</td>\n",
       "      <td>0.816604</td>\n",
       "      <td>1.442408</td>\n",
       "      <td>0.499270</td>\n",
       "      <td>0.774546</td>\n",
       "      <td>0.652192</td>\n",
       "      <td>1.423153</td>\n",
       "      <td>0.497219</td>\n",
       "      <td>0.097439</td>\n",
       "      <td>2.103739</td>\n",
       "    </tr>\n",
       "    <tr>\n",
       "      <th>min</th>\n",
       "      <td>1.511150</td>\n",
       "      <td>10.730000</td>\n",
       "      <td>0.000000</td>\n",
       "      <td>0.290000</td>\n",
       "      <td>69.810000</td>\n",
       "      <td>0.000000</td>\n",
       "      <td>5.430000</td>\n",
       "      <td>0.000000</td>\n",
       "      <td>0.000000</td>\n",
       "      <td>1.000000</td>\n",
       "    </tr>\n",
       "    <tr>\n",
       "      <th>25%</th>\n",
       "      <td>1.516522</td>\n",
       "      <td>12.907500</td>\n",
       "      <td>2.115000</td>\n",
       "      <td>1.190000</td>\n",
       "      <td>72.280000</td>\n",
       "      <td>0.122500</td>\n",
       "      <td>8.240000</td>\n",
       "      <td>0.000000</td>\n",
       "      <td>0.000000</td>\n",
       "      <td>1.000000</td>\n",
       "    </tr>\n",
       "    <tr>\n",
       "      <th>50%</th>\n",
       "      <td>1.517680</td>\n",
       "      <td>13.300000</td>\n",
       "      <td>3.480000</td>\n",
       "      <td>1.360000</td>\n",
       "      <td>72.790000</td>\n",
       "      <td>0.555000</td>\n",
       "      <td>8.600000</td>\n",
       "      <td>0.000000</td>\n",
       "      <td>0.000000</td>\n",
       "      <td>2.000000</td>\n",
       "    </tr>\n",
       "    <tr>\n",
       "      <th>75%</th>\n",
       "      <td>1.519157</td>\n",
       "      <td>13.825000</td>\n",
       "      <td>3.600000</td>\n",
       "      <td>1.630000</td>\n",
       "      <td>73.087500</td>\n",
       "      <td>0.610000</td>\n",
       "      <td>9.172500</td>\n",
       "      <td>0.000000</td>\n",
       "      <td>0.100000</td>\n",
       "      <td>3.000000</td>\n",
       "    </tr>\n",
       "    <tr>\n",
       "      <th>max</th>\n",
       "      <td>1.533930</td>\n",
       "      <td>17.380000</td>\n",
       "      <td>4.490000</td>\n",
       "      <td>3.500000</td>\n",
       "      <td>75.410000</td>\n",
       "      <td>6.210000</td>\n",
       "      <td>16.190000</td>\n",
       "      <td>3.150000</td>\n",
       "      <td>0.510000</td>\n",
       "      <td>7.000000</td>\n",
       "    </tr>\n",
       "  </tbody>\n",
       "</table>\n",
       "</div>"
      ],
      "text/plain": [
       "               RI          Na          Mg          Al          Si           K  \\\n",
       "count  214.000000  214.000000  214.000000  214.000000  214.000000  214.000000   \n",
       "mean     1.518365   13.407850    2.684533    1.444907   72.650935    0.497056   \n",
       "std      0.003037    0.816604    1.442408    0.499270    0.774546    0.652192   \n",
       "min      1.511150   10.730000    0.000000    0.290000   69.810000    0.000000   \n",
       "25%      1.516522   12.907500    2.115000    1.190000   72.280000    0.122500   \n",
       "50%      1.517680   13.300000    3.480000    1.360000   72.790000    0.555000   \n",
       "75%      1.519157   13.825000    3.600000    1.630000   73.087500    0.610000   \n",
       "max      1.533930   17.380000    4.490000    3.500000   75.410000    6.210000   \n",
       "\n",
       "               Ca          Ba          Fe        Type  \n",
       "count  214.000000  214.000000  214.000000  214.000000  \n",
       "mean     8.956963    0.175047    0.057009    2.780374  \n",
       "std      1.423153    0.497219    0.097439    2.103739  \n",
       "min      5.430000    0.000000    0.000000    1.000000  \n",
       "25%      8.240000    0.000000    0.000000    1.000000  \n",
       "50%      8.600000    0.000000    0.000000    2.000000  \n",
       "75%      9.172500    0.000000    0.100000    3.000000  \n",
       "max     16.190000    3.150000    0.510000    7.000000  "
      ]
     },
     "execution_count": 60,
     "metadata": {},
     "output_type": "execute_result"
    }
   ],
   "source": [
    "data.describe()"
   ]
  },
  {
   "cell_type": "code",
   "execution_count": 61,
   "id": "889b6e3d",
   "metadata": {},
   "outputs": [
    {
     "data": {
      "text/plain": [
       "array([1, 2, 3, 5, 6, 7], dtype=int64)"
      ]
     },
     "execution_count": 61,
     "metadata": {},
     "output_type": "execute_result"
    }
   ],
   "source": [
    "data['Type'].unique()"
   ]
  },
  {
   "cell_type": "code",
   "execution_count": 62,
   "id": "6bf04f98",
   "metadata": {},
   "outputs": [
    {
     "data": {
      "text/plain": [
       "<AxesSubplot:xlabel='Type', ylabel='Count'>"
      ]
     },
     "execution_count": 62,
     "metadata": {},
     "output_type": "execute_result"
    },
    {
     "data": {
      "image/png": "[encoded data removed]",
      "text/plain": [
       "<Figure size 432x288 with 1 Axes>"
      ]
     },
     "metadata": {
      "needs_background": "light"
     },
     "output_type": "display_data"
    }
   ],
   "source": [
    "#sns.barplot(data=data,hue=\"Type\",y=\"RI\",kind=\"count\")\n",
    "data['Type'].value_counts().plot(kind='bar', xlabel='Type', ylabel='Count', rot=0)"
   ]
  },
  {
   "cell_type": "code",
   "execution_count": 63,
   "id": "dadd3f56",
   "metadata": {},
   "outputs": [
    {
     "data": {
      "image/png": "[encoded data removed]",
      "text/plain": [
       "<Figure size 432x288 with 1 Axes>"
      ]
     },
     "metadata": {
      "needs_background": "light"
     },
     "output_type": "display_data"
    },
    {
     "data": {
      "image/png": "[encoded data removed]",
      "text/plain": [
       "<Figure size 432x288 with 1 Axes>"
      ]
     },
     "metadata": {
      "needs_background": "light"
     },
     "output_type": "display_data"
    },
    {
     "data": {
      "image/png": "[encoded data removed]",
      "text/plain": [
       "<Figure size 432x288 with 1 Axes>"
      ]
     },
     "metadata": {
      "needs_background": "light"
     },
     "output_type": "display_data"
    },
    {
     "data": {
      "image/png": "[encoded data removed]",
      "text/plain": [
       "<Figure size 432x288 with 1 Axes>"
      ]
     },
     "metadata": {
      "needs_background": "light"
     },
     "output_type": "display_data"
    },
    {
     "data": {
      "image/png": "[encoded data removed]",
      "text/plain": [
       "<Figure size 432x288 with 1 Axes>"
      ]
     },
     "metadata": {
      "needs_background": "light"
     },
     "output_type": "display_data"
    },
    {
     "data": {
      "image/png": "[encoded data removed]",
      "text/plain": [
       "<Figure size 432x288 with 1 Axes>"
      ]
     },
     "metadata": {
      "needs_background": "light"
     },
     "output_type": "display_data"
    },
    {
     "data": {
      "image/png": "[encoded data removed]",
      "text/plain": [
       "<Figure size 432x288 with 1 Axes>"
      ]
     },
     "metadata": {
      "needs_background": "light"
     },
     "output_type": "display_data"
    },
    {
     "data": {
      "image/png": "[encoded data removed]",
      "text/plain": [
       "<Figure size 432x288 with 1 Axes>"
      ]
     },
     "metadata": {
      "needs_background": "light"
     },
     "output_type": "display_data"
    },
    {
     "data": {
      "image/png": "[encoded data removed]",
      "text/plain": [
       "<Figure size 432x288 with 1 Axes>"
      ]
     },
     "metadata": {
      "needs_background": "light"
     },
     "output_type": "display_data"
    }
   ],
   "source": [
    "for i in data.columns[:-1]:\n",
    "    skew = data[i].skew()\n",
    "    sns.distplot(data[i], kde= False, label='Skew = %.3f' %(skew), bins=30)\n",
    "    plt.legend(loc='best')\n",
    "    plt.show()"
   ]
  },
  {
   "cell_type": "code",
   "execution_count": 64,
   "id": "aa96f4d3",
   "metadata": {},
   "outputs": [
    {
     "data": {
      "text/plain": [
       "<AxesSubplot:>"
      ]
     },
     "execution_count": 64,
     "metadata": {},
     "output_type": "execute_result"
    },
    {
     "data": {
      "image/png": "[encoded data removed]",
      "text/plain": [
       "<Figure size 1080x720 with 2 Axes>"
      ]
     },
     "metadata": {
      "needs_background": "light"
     },
     "output_type": "display_data"
    }
   ],
   "source": [
    "plt.figure(figsize=(15,10))\n",
    "\n",
    "sns.heatmap(data.corr(),annot=True)"
   ]
  },
  {
   "cell_type": "code",
   "execution_count": 65,
   "id": "562b6dd5",
   "metadata": {},
   "outputs": [
    {
     "data": {
      "image/png": "[encoded data removed]",
      "text/plain": [
       "<Figure size 432x288 with 1 Axes>"
      ]
     },
     "metadata": {
      "needs_background": "light"
     },
     "output_type": "display_data"
    },
    {
     "data": {
      "image/png": "[encoded data removed]",
      "text/plain": [
       "<Figure size 432x288 with 1 Axes>"
      ]
     },
     "metadata": {
      "needs_background": "light"
     },
     "output_type": "display_data"
    },
    {
     "data": {
      "image/png": "[encoded data removed]",
      "text/plain": [
       "<Figure size 432x288 with 1 Axes>"
      ]
     },
     "metadata": {
      "needs_background": "light"
     },
     "output_type": "display_data"
    },
    {
     "data": {
      "image/png": "[encoded data removed]",
      "text/plain": [
       "<Figure size 432x288 with 1 Axes>"
      ]
     },
     "metadata": {
      "needs_background": "light"
     },
     "output_type": "display_data"
    },
    {
     "data": {
      "image/png": "[encoded data removed]",
      "text/plain": [
       "<Figure size 432x288 with 1 Axes>"
      ]
     },
     "metadata": {
      "needs_background": "light"
     },
     "output_type": "display_data"
    },
    {
     "data": {
      "image/png": "[encoded data removed]",
      "text/plain": [
       "<Figure size 432x288 with 1 Axes>"
      ]
     },
     "metadata": {
      "needs_background": "light"
     },
     "output_type": "display_data"
    },
    {
     "data": {
      "image/png": "[encoded data removed]",
      "text/plain": [
       "<Figure size 432x288 with 1 Axes>"
      ]
     },
     "metadata": {
      "needs_background": "light"
     },
     "output_type": "display_data"
    },
    {
     "data": {
      "image/png": "[encoded data removed]",
      "text/plain": [
       "<Figure size 432x288 with 1 Axes>"
      ]
     },
     "metadata": {
      "needs_background": "light"
     },
     "output_type": "display_data"
    },
    {
     "data": {
      "image/png": "[encoded data removed]",
      "text/plain": [
       "<Figure size 432x288 with 1 Axes>"
      ]
     },
     "metadata": {
      "needs_background": "light"
     },
     "output_type": "display_data"
    }
   ],
   "source": [
    "for i in data.columns[:-1]:\n",
    "    sns.boxplot(data=data[i])\n",
    "    #plt.xlabel(data[i].columns)\n",
    "    plt.show()\n"
   ]
  },
  {
   "cell_type": "code",
   "execution_count": 94,
   "id": "87c90a99",
   "metadata": {},
   "outputs": [
    {
     "name": "stdout",
     "output_type": "stream",
     "text": [
      "The dataset contains 25 observations with more than 2 outliers\n"
     ]
    }
   ],
   "source": [
    "from collections import Counter\n",
    "def outlier_hunt(df):\n",
    "    \"\"\"\n",
    "    Takes a dataframe df of features and returns a list of the indices\n",
    "    corresponding to the observations containing more than 2 outliers. \n",
    "    \"\"\"\n",
    "    outlier_indices = []\n",
    "    \n",
    "    # iterate over features(columns)\n",
    "    for col in df.columns.tolist():\n",
    "        # 1st quartile (25%)\n",
    "        Q1 = np.percentile(df[col], 25)\n",
    "        \n",
    "        # 3rd quartile (75%)\n",
    "        Q3 = np.percentile(df[col],75)\n",
    "        \n",
    "        # Interquartile rrange (IQR)\n",
    "        IQR = Q3 - Q1\n",
    "        \n",
    "        # outlier step\n",
    "        outlier_step = 1.5 * IQR\n",
    "        \n",
    "        # Determine a list of indices of outliers for feature col\n",
    "        outlier_list_col = df[(df[col] < Q1 - outlier_step) | (df[col] > Q3 + outlier_step )].index\n",
    "        \n",
    "        # append the found outlier indices for col to the list of outlier indices \n",
    "        outlier_indices.extend(outlier_list_col)\n",
    "        \n",
    "    # select observations containing more than 2 outliers\n",
    "    outlier_indices = Counter(outlier_indices)        \n",
    "    multiple_outliers = list( k for k, v in outlier_indices.items() if v > 2 )\n",
    "    \n",
    "    return multiple_outliers   \n",
    "\n",
    "print('The dataset contains %d observations with more than 2 outliers' %(len(outlier_hunt(data))))   "
   ]
  },
  {
   "cell_type": "code",
   "execution_count": 95,
   "id": "448cdcf3",
   "metadata": {},
   "outputs": [
    {
     "name": "stdout",
     "output_type": "stream",
     "text": [
      "(189, 10)\n"
     ]
    }
   ],
   "source": [
    "outlier_indices = outlier_hunt(data)\n",
    "data = data.drop(outlier_indices).reset_index(drop=True)\n",
    "print(data.shape)"
   ]
  },
  {
   "cell_type": "code",
   "execution_count": 96,
   "id": "eb9e34a2",
   "metadata": {},
   "outputs": [
    {
     "data": {
      "text/plain": [
       "(189, 10)"
      ]
     },
     "execution_count": 96,
     "metadata": {},
     "output_type": "execute_result"
    }
   ],
   "source": [
    "data.shape"
   ]
  },
  {
   "cell_type": "code",
   "execution_count": 97,
   "id": "86de7bc7",
   "metadata": {},
   "outputs": [
    {
     "name": "stdout",
     "output_type": "stream",
     "text": [
      "(189, 9)\n",
      "(189,)\n"
     ]
    }
   ],
   "source": [
    "X=data.iloc[:,0:9]\n",
    "Y=data['Type']\n",
    "print(X.shape)\n",
    "print(Y.shape)"
   ]
  },
  {
   "cell_type": "code",
   "execution_count": 98,
   "id": "6212b288",
   "metadata": {},
   "outputs": [
    {
     "data": {
      "text/plain": [
       "KNeighborsClassifier()"
      ]
     },
     "execution_count": 98,
     "metadata": {},
     "output_type": "execute_result"
    }
   ],
   "source": [
    "from sklearn.neighbors import KNeighborsClassifier\n",
    "from sklearn.model_selection import train_test_split\n",
    "x_train,x_test,y_train,y_test = train_test_split(X,Y,test_size=0.30,\n",
    "                                                 random_state=42)\n",
    "classifier=KNeighborsClassifier(n_neighbors=5)\n",
    "classifier.fit(x_train,y_train)"
   ]
  },
  {
   "cell_type": "code",
   "execution_count": 99,
   "id": "855884d7",
   "metadata": {},
   "outputs": [],
   "source": [
    "y_pred=classifier.predict(x_test)"
   ]
  },
  {
   "cell_type": "code",
   "execution_count": 100,
   "id": "858ae29d",
   "metadata": {},
   "outputs": [],
   "source": [
    "from sklearn import metrics\n",
    "\n",
    "matrix=metrics.confusion_matrix(y_test,y_pred)\n",
    "\n",
    "#matrix"
   ]
  },
  {
   "cell_type": "code",
   "execution_count": 101,
   "id": "ed6f1690",
   "metadata": {},
   "outputs": [
    {
     "name": "stdout",
     "output_type": "stream",
     "text": [
      "the accuracy of this model is:  0.6842105263157895\n",
      "              precision    recall  f1-score   support\n",
      "\n",
      "           1       0.71      0.65      0.68        26\n",
      "           2       0.71      0.75      0.73        20\n",
      "           3       0.20      0.25      0.22         4\n",
      "           5       1.00      0.75      0.86         4\n",
      "           6       0.50      1.00      0.67         1\n",
      "           7       1.00      1.00      1.00         2\n",
      "\n",
      "    accuracy                           0.68        57\n",
      "   macro avg       0.69      0.73      0.69        57\n",
      "weighted avg       0.70      0.68      0.69        57\n",
      "\n"
     ]
    }
   ],
   "source": [
    "score=metrics.accuracy_score(y_test,y_pred)\n",
    "print('the accuracy of this model is: ',score)\n",
    "print(metrics.classification_report(y_test,y_pred))"
   ]
  },
  {
   "cell_type": "markdown",
   "id": "603b9616",
   "metadata": {},
   "source": [
    "## Improving the model"
   ]
  },
  {
   "cell_type": "code",
   "execution_count": null,
   "id": "0d798d75",
   "metadata": {},
   "outputs": [],
   "source": [
    "# standarding the dataset"
   ]
  },
  {
   "cell_type": "code",
   "execution_count": 102,
   "id": "ac4d5bc0",
   "metadata": {},
   "outputs": [],
   "source": [
    "from sklearn.preprocessing import StandardScaler"
   ]
  },
  {
   "cell_type": "code",
   "execution_count": 103,
   "id": "f8f393dd",
   "metadata": {},
   "outputs": [
    {
     "data": {
      "text/plain": [
       "array([[-8.22679607e-01,  2.80129272e+00, -2.48204463e+00,\n",
       "         1.79443016e+00,  8.17126062e-01, -2.14505595e+00,\n",
       "        -3.20979483e-01,  4.87613884e+00, -7.28024239e-01],\n",
       "       [ 2.19781346e+00,  3.07690143e-01, -2.48204463e+00,\n",
       "         7.96384045e-01, -7.58427154e-01, -6.51133822e-01,\n",
       "         2.61457624e+00, -1.97367524e-01, -7.28024239e-01],\n",
       "       [ 2.87059557e-01,  1.07239493e+00,  6.08663516e-01,\n",
       "        -5.80231287e-01, -9.35455606e-01, -1.86494555e+00,\n",
       "        -1.40076889e-01, -1.97367524e-01, -7.28024239e-01],\n",
       "       [-3.38733205e-01, -7.39622940e-01,  4.51227980e-01,\n",
       "        -4.08154370e-01,  1.04726305e+00,  5.62677907e-01,\n",
       "        -5.51219147e-01, -1.97367524e-01, -7.28024239e-01],\n",
       "       [ 1.29249993e+00, -3.40646528e-01,  5.42374870e-01,\n",
       "        -1.64710817e+00, -5.81398703e-01, -1.25803969e+00,\n",
       "         6.49316248e-01, -1.97367524e-01,  1.00955085e+00],\n",
       "       [ 2.00546452e-02, -2.57526442e-01,  8.07529456e-01,\n",
       "        -5.45815903e-01, -3.68964562e-01,  6.56048040e-01,\n",
       "        -5.18327767e-01, -1.97367524e-01, -7.28024239e-01],\n",
       "       [ 2.41168088e-01,  3.90810229e-01,  4.01511496e-01,\n",
       "         4.83022923e-03, -1.23640397e+00,  4.22622707e-01,\n",
       "        -4.96255919e-02, -1.97367524e-01, -7.28024239e-01],\n",
       "       [-8.22679607e-01,  3.07690143e-01,  5.09230546e-01,\n",
       "         6.58722512e-01, -4.57478787e-01,  9.36158439e-01,\n",
       "        -8.47241574e-01, -1.97367524e-01, -7.28024239e-01],\n",
       "       [-2.42778315e-01, -9.55735164e-01,  5.58947031e-01,\n",
       "        -6.49062053e-01,  8.17126062e-01,  7.02733107e-01,\n",
       "        -2.96310947e-01, -1.97367524e-01, -7.28024239e-01],\n",
       "       [-7.01693006e-01, -7.72870975e-01,  4.34655819e-01,\n",
       "         6.58722512e-01,  1.25969719e+00,  9.36158439e-01,\n",
       "        -9.54138561e-01, -1.97367524e-01, -7.28024239e-01],\n",
       "       [ 2.62027846e-01,  5.73674418e-01,  5.17516627e-01,\n",
       "        -8.21138970e-01, -1.49076591e-02, -1.49146502e+00,\n",
       "        -2.46973876e-01, -1.97367524e-01, -7.28024239e-01],\n",
       "       [ 7.41802297e-01,  1.20538707e+00, -1.36342372e+00,\n",
       "         9.68460961e-01, -1.57275803e+00, -3.24338357e-01,\n",
       "         1.23313826e+00, -1.97367524e-01,  1.11176115e+00],\n",
       "       [-2.63638073e-01, -7.46622527e-02,  3.26936768e-01,\n",
       "        -6.40005373e-02,  1.97526482e-01,  6.09362973e-01,\n",
       "        -3.86762244e-01, -1.97367524e-01, -7.28024239e-01],\n",
       "       [ 1.53864508e+00,  1.55449143e+00,  6.50093920e-01,\n",
       "        -1.50944664e+00, -2.28087184e+00, -1.07129942e+00,\n",
       "         6.54942405e-02, -1.97367524e-01,  3.05375684e+00],\n",
       "       [-3.05357591e-01, -1.33808756e+00, -2.36516728e-01,\n",
       "        -2.01662070e-01,  1.86159392e+00,  4.69307774e-01,\n",
       "        -2.88520883e-04, -1.97367524e-01,  1.72502295e+00],\n",
       "       [ 1.29249993e+00, -3.40646528e-01,  5.42374870e-01,\n",
       "        -1.64710817e+00, -7.58427154e-01, -1.25803969e+00,\n",
       "         6.49316248e-01, -1.97367524e-01,  1.00955085e+00],\n",
       "       [-7.47584476e-01, -5.40134734e-01,  4.51227980e-01,\n",
       "         9.34045578e-01,  5.51583385e-01,  8.42788306e-01,\n",
       "        -8.47241574e-01, -1.97367524e-01,  1.41839205e+00],\n",
       "       [ 1.28832798e+00, -3.69869800e+00, -1.06512481e+00,\n",
       "         7.27553278e-01,  1.40131995e+00,  5.62677907e-01,\n",
       "         2.10475984e+00, -1.97367524e-01, -7.28024239e-01],\n",
       "       [-3.09529543e-01, -1.00560722e+00,  4.67800142e-01,\n",
       "        -1.67246687e-01,  7.64017527e-01,  7.02733107e-01,\n",
       "        -3.04533792e-01, -1.97367524e-01,  7.02919955e-01],\n",
       "       [ 1.24353439e-01, -5.40134734e-01,  5.50660950e-01,\n",
       "         7.27553278e-01, -2.45044646e-01,  5.62677907e-01,\n",
       "        -4.19653625e-01, -1.97367524e-01,  4.98499356e-01],\n",
       "       [ 1.90994879e+00,  9.15779193e-02,  4.84372304e-01,\n",
       "        -1.81918509e+00, -1.16559259e+00, -1.58483515e+00,\n",
       "         9.12447293e-01, -1.97367524e-01, -4.21393340e-01],\n",
       "       [-2.76153929e-01,  4.57306297e-01,  3.43508930e-01,\n",
       "         5.89891745e-01, -1.07707837e+00,  5.62677907e-01,\n",
       "        -2.22305341e-01, -1.97367524e-01, -7.28024239e-01],\n",
       "       [-5.55674695e-01, -4.23766614e-01,  3.93225415e-01,\n",
       "         1.51910709e+00,  1.26715102e-01,  9.36158439e-01,\n",
       "        -7.23898896e-01, -1.97367524e-01, -7.28024239e-01],\n",
       "       [-4.47203950e-01, -3.90518579e-01,  4.51227980e-01,\n",
       "         1.17495326e+00,  1.44417947e-01,  3.75937641e-01,\n",
       "        -5.10104922e-01, -1.97367524e-01, -1.25521421e-02],\n",
       "       [ 3.49638833e-01, -9.12862698e-02,  2.77220283e-01,\n",
       "        -2.36077454e-01, -5.10587323e-01,  6.56048040e-01,\n",
       "         6.54942405e-02, -1.97367524e-01,  3.96289056e-01],\n",
       "       [-7.97647897e-01,  1.87034776e+00, -2.48204463e+00,\n",
       "         2.03533784e+00,  1.70226832e+00, -2.14505595e+00,\n",
       "        -4.77213541e-01,  5.57466508e+00, -7.28024239e-01],\n",
       "       [-1.02710524e+00, -7.72870975e-01,  5.09230546e-01,\n",
       "         9.34045578e-01,  5.69286230e-01,  8.42788306e-01,\n",
       "        -8.14350193e-01, -1.97367524e-01,  1.92944355e+00],\n",
       "       [-7.80960090e-01,  2.57818091e-01,  3.26936768e-01,\n",
       "        -2.36077454e-01, -1.49076591e-02,  2.82567508e-01,\n",
       "        -3.37425173e-01, -1.97367524e-01, -7.28024239e-01],\n",
       "       [-5.09783226e-01,  2.07946040e-01,  4.18083657e-01,\n",
       "        -6.83477437e-01,  3.56852089e-01,  1.89197375e-01,\n",
       "        -5.18327767e-01, -1.97367524e-01, -7.28024239e-01],\n",
       "       [-4.97706524e-03, -3.90518579e-01,  5.17516627e-01,\n",
       "        -9.93215886e-01, -5.45993013e-01,  8.42788306e-01,\n",
       "         5.72713953e-02, -1.97367524e-01,  8.05130254e-01],\n",
       "       [ 2.62027846e-01,  1.23863511e+00, -5.01671315e-01,\n",
       "         7.27553278e-01, -4.92884477e-01, -2.14505595e+00,\n",
       "         4.19076583e-01, -1.97367524e-01, -7.28024239e-01],\n",
       "       [-3.63764915e-01, -4.23766614e-01,  5.00944465e-01,\n",
       "         3.92456125e-02,  6.04691920e-01,  5.15992840e-01,\n",
       "        -5.42996302e-01, -1.97367524e-01,  3.96289056e-01],\n",
       "       [-1.92714894e-01,  4.07434246e-01,  3.02078526e-01,\n",
       "         9.68460961e-01, -1.25410682e+00,  5.15992840e-01,\n",
       "        -2.05859650e-01, -1.97367524e-01,  1.91868457e-01],\n",
       "       [-9.56182063e-01,  1.10564297e+00,  4.34655819e-01,\n",
       "        -3.39323604e-01,  4.09960624e-01, -4.17708490e-01,\n",
       "        -9.21247180e-01, -1.97367524e-01,  7.02919955e-01],\n",
       "       [ 6.33331552e-01,  2.50818505e-02, -2.48204463e+00,\n",
       "         1.41586094e+00,  6.75503301e-01,  4.91421753e-02,\n",
       "         1.85807449e+00, -1.97367524e-01, -7.28024239e-01],\n",
       "       [-5.59846647e-01,  7.73162624e-01,  5.67233112e-01,\n",
       "         1.58793786e+00, -1.04167268e+00,  8.42788306e-01,\n",
       "        -9.70584251e-01, -1.97367524e-01, -7.28024239e-01],\n",
       "       [ 1.07138648e+00,  7.23290573e-01,  4.92658385e-01,\n",
       "        -7.86723586e-01, -1.21870113e+00, -1.72489035e+00,\n",
       "         2.79288215e-01, -1.97367524e-01, -7.28024239e-01],\n",
       "       [-7.01693006e-01, -6.39878837e-01,  4.67800142e-01,\n",
       "         1.00287634e+00,  8.70234597e-01,  8.89473373e-01,\n",
       "        -8.80132954e-01, -1.97367524e-01, -7.28024239e-01],\n",
       "       [-1.14809184e+00,  5.83298849e-02,  3.76653253e-01,\n",
       "        -4.76985137e-01,  1.62120792e-01,  4.69307774e-01,\n",
       "        -4.03207934e-01, -1.97367524e-01, -7.28024239e-01],\n",
       "       [-6.39113730e-01, -9.72359181e-01, -9.56533541e-02,\n",
       "         1.24378403e+00,  9.94154513e-01,  1.26295390e+00,\n",
       "        -4.27876470e-01, -1.97367524e-01, -7.28024239e-01],\n",
       "       [ 1.58453655e+00,  1.95346784e+00, -2.48204463e+00,\n",
       "        -1.19970819e+00,  3.82008763e-02, -1.67820529e+00,\n",
       "         2.02253139e+00, -1.97367524e-01,  8.96581575e-02],\n",
       "       [-1.05213695e+00, -3.90518579e-01,  4.84372304e-01,\n",
       "         5.55476362e-01,  8.34828907e-01,  1.07621364e+00,\n",
       "        -9.04801490e-01, -1.97367524e-01, -7.28024239e-01],\n",
       "       [-1.05213695e+00, -2.47902011e-02,  2.85506364e-01,\n",
       "         4.17814829e-01,  7.99423217e-01, -3.24338357e-01,\n",
       "        -6.91007515e-01, -1.97367524e-01, -7.28024239e-01],\n",
       "       [ 1.29249993e+00, -2.24278407e-01,  4.84372304e-01,\n",
       "        -1.54386202e+00, -7.93832845e-01, -1.07129942e+00,\n",
       "         6.24647712e-01, -1.97367524e-01,  9.07340554e-01],\n",
       "       [-2.42778315e-01, -2.90774476e-01,  4.09797576e-01,\n",
       "        -2.36077454e-01,  3.74554934e-01,  6.56048040e-01,\n",
       "        -4.68990696e-01, -1.97367524e-01, -7.28024239e-01],\n",
       "       [-1.76027087e-01,  7.56538607e-01,  7.74385133e-01,\n",
       "         6.58722512e-01, -1.48424380e+00,  3.75937641e-01,\n",
       "        -6.99230361e-01, -1.97367524e-01,  8.05130254e-01],\n",
       "       [ 8.37757187e-01,  2.07946040e-01, -2.48204463e+00,\n",
       "         1.76907146e-01, -7.05318619e-01, -6.04448756e-01,\n",
       "         2.82837022e+00, -1.97367524e-01, -7.28024239e-01],\n",
       "       [-2.61661886e+00, -4.40390631e-01,  3.93225415e-01,\n",
       "        -7.86723586e-01,  5.86989075e-01,  7.49418173e-01,\n",
       "        -5.84110528e-01, -1.97367524e-01,  2.44049505e+00],\n",
       "       [-3.97140529e-01, -6.89750889e-01,  4.18083657e-01,\n",
       "        -7.17892820e-01,  1.10037158e+00,  4.69307774e-01,\n",
       "        -4.19653625e-01, -1.97367524e-01, -7.28024239e-01],\n",
       "       [-1.05630890e+00, -6.23254820e-01,  3.60081091e-01,\n",
       "         1.76907146e-01,  1.11807443e+00,  1.07621364e+00,\n",
       "        -8.30795883e-01, -1.97367524e-01,  1.72502295e+00],\n",
       "       [-3.63764915e-01, -9.05863112e-01,  3.51795011e-01,\n",
       "        -5.11400520e-01,  9.76451668e-01,  6.09362973e-01,\n",
       "        -3.45648018e-01, -1.97367524e-01, -7.28024239e-01],\n",
       "       [-7.80960090e-01, -8.39367043e-01, -1.20511597e-01,\n",
       "         3.14568679e-01,  1.10037158e+00,  5.15992840e-01,\n",
       "        -2.22305341e-01,  2.07042403e-01,  1.52060235e+00],\n",
       "       [-1.21791714e-01,  2.91066126e-01,  8.15815537e-01,\n",
       "        -5.80231287e-01, -2.80450336e-01,  5.62677907e-01,\n",
       "        -7.48567432e-01, -1.97367524e-01, -7.28024239e-01],\n",
       "       [-4.13828336e-01, -1.75368799e+00,  2.10931636e-01,\n",
       "        -6.49062053e-01,  1.59605125e+00,  7.49418173e-01,\n",
       "        -1.31854044e-01, -1.97367524e-01,  1.72502295e+00],\n",
       "       [ 3.21994163e+00,  7.39914590e-01, -2.48204463e+00,\n",
       "         3.92456125e-02, -2.49330598e+00, -1.25803969e+00,\n",
       "         3.60131767e+00, -1.97367524e-01,  2.94078757e-01],\n",
       "       [-2.05230749e-01, -7.46622527e-02,  4.01511496e-01,\n",
       "         2.11322529e-01, -1.49076591e-02,  6.09362973e-01,\n",
       "        -5.18327767e-01, -1.97367524e-01, -7.28024239e-01],\n",
       "       [ 1.54698898e+00,  1.58773947e+00,  6.83238244e-01,\n",
       "        -3.02372350e+00, -1.55505519e+00, -1.63152022e+00,\n",
       "         4.19076583e-01, -1.97367524e-01, -7.28024239e-01]])"
      ]
     },
     "execution_count": 103,
     "metadata": {},
     "output_type": "execute_result"
    }
   ],
   "source": [
    "\n",
    "sd=StandardScaler()\n",
    "sd.fit_transform(x_train)\n",
    "sd.fit_transform(x_test)"
   ]
  },
  {
   "cell_type": "code",
   "execution_count": 104,
   "id": "dc89d615",
   "metadata": {},
   "outputs": [
    {
     "data": {
      "text/plain": [
       "KNeighborsClassifier(n_neighbors=14)"
      ]
     },
     "execution_count": 104,
     "metadata": {},
     "output_type": "execute_result"
    }
   ],
   "source": [
    "# KNeighbor =sqrt of no.of.samples\n",
    "n=len(data)\n",
    "k=round(np.sqrt(n))\n",
    "classifier=KNeighborsClassifier(n_neighbors=k)\n",
    "classifier.fit(x_train,y_train)"
   ]
  },
  {
   "cell_type": "code",
   "execution_count": 105,
   "id": "4ab1040f",
   "metadata": {},
   "outputs": [],
   "source": [
    "y_pred=classifier.predict(x_test)"
   ]
  },
  {
   "cell_type": "code",
   "execution_count": 106,
   "id": "8e9a5454",
   "metadata": {},
   "outputs": [
    {
     "name": "stdout",
     "output_type": "stream",
     "text": [
      "Model Accuracy:\n",
      " 0.7017543859649122\n",
      "Classification report:\n",
      "               precision    recall  f1-score   support\n",
      "\n",
      "           1       0.80      0.77      0.78        26\n",
      "           2       0.64      0.70      0.67        20\n",
      "           3       0.00      0.00      0.00         4\n",
      "           5       0.80      1.00      0.89         4\n",
      "           6       0.00      0.00      0.00         1\n",
      "           7       1.00      1.00      1.00         2\n",
      "\n",
      "    accuracy                           0.70        57\n",
      "   macro avg       0.54      0.58      0.56        57\n",
      "weighted avg       0.68      0.70      0.69        57\n",
      "\n",
      "Confusion Matrix:\n",
      " [[20  5  1  0  0  0]\n",
      " [ 3 14  0  1  2  0]\n",
      " [ 1  3  0  0  0  0]\n",
      " [ 0  0  0  4  0  0]\n",
      " [ 1  0  0  0  0  0]\n",
      " [ 0  0  0  0  0  2]]\n"
     ]
    }
   ],
   "source": [
    "print(\"Model Accuracy:\\n\",metrics.accuracy_score(y_test,y_pred))\n",
    "print(\"Classification report:\\n\",metrics.classification_report(y_test,y_pred))\n",
    "print(\"Confusion Matrix:\\n\",metrics.confusion_matrix(y_test,y_pred))"
   ]
  },
  {
   "cell_type": "markdown",
   "id": "8d994022",
   "metadata": {},
   "source": [
    "### Finding the optimum value of k"
   ]
  },
  {
   "cell_type": "code",
   "execution_count": 107,
   "id": "0c7d3bcc",
   "metadata": {},
   "outputs": [],
   "source": [
    "\n",
    "\n",
    "error_rate=[]#list that will store the average error rate value of k\n",
    "for i in range (1,31):  #Took the range of k from 1 to 30\n",
    "    clf=KNeighborsClassifier(n_neighbors=i)\n",
    "    clf.fit(x_train,y_train)\n",
    "    predict_i=clf.predict(x_test)\n",
    "    error_rate.append(np.mean(predict_i!=y_test))\n",
    "    \n",
    "#error_rate"
   ]
  },
  {
   "cell_type": "code",
   "execution_count": 108,
   "id": "1c7d297b",
   "metadata": {},
   "outputs": [
    {
     "data": {
      "image/png": "[encoded data removed]",
      "text/plain": [
       "<Figure size 864x432 with 1 Axes>"
      ]
     },
     "metadata": {
      "needs_background": "light"
     },
     "output_type": "display_data"
    }
   ],
   "source": [
    "plt.figure(figsize=(12,6))\n",
    "plt.plot(range(1,31),error_rate,marker=\"o\",markerfacecolor=\"green\",\n",
    "         linestyle=\"dashed\",color=\"red\",markersize=15)\n",
    "plt.title(\"Error rate vs k value\",fontsize=20)\n",
    "plt.xlabel(\"k- values\",fontsize=20)\n",
    "plt.ylabel(\"error rate\",fontsize=20)\n",
    "plt.xticks(range(1,31))\n",
    "plt.show()"
   ]
  },
  {
   "cell_type": "code",
   "execution_count": 109,
   "id": "183c3c2b",
   "metadata": {},
   "outputs": [],
   "source": [
    "\n",
    "# i chose K17 there is slight fluctuations\n",
    "classifier=KNeighborsClassifier(n_neighbors=17)\n",
    "classifier.fit(x_train,y_train)\n",
    "y_pred=classifier.predict(x_test)"
   ]
  },
  {
   "cell_type": "code",
   "execution_count": 110,
   "id": "664aebf4",
   "metadata": {
    "scrolled": true
   },
   "outputs": [
    {
     "name": "stdout",
     "output_type": "stream",
     "text": [
      "Model Accuracy:\n",
      " 0.631578947368421\n",
      "Classification report:\n",
      "               precision    recall  f1-score   support\n",
      "\n",
      "           1       0.78      0.69      0.73        26\n",
      "           2       0.52      0.75      0.61        20\n",
      "           3       0.00      0.00      0.00         4\n",
      "           5       1.00      0.25      0.40         4\n",
      "           6       0.00      0.00      0.00         1\n",
      "           7       1.00      1.00      1.00         2\n",
      "\n",
      "    accuracy                           0.63        57\n",
      "   macro avg       0.55      0.45      0.46        57\n",
      "weighted avg       0.64      0.63      0.61        57\n",
      "\n",
      "Confusion Matrix:\n",
      " [[18  8  0  0  0  0]\n",
      " [ 3 15  0  0  2  0]\n",
      " [ 1  3  0  0  0  0]\n",
      " [ 0  3  0  1  0  0]\n",
      " [ 1  0  0  0  0  0]\n",
      " [ 0  0  0  0  0  2]]\n"
     ]
    }
   ],
   "source": [
    "print(\"Model Accuracy:\\n\",metrics.accuracy_score(y_test,y_pred))\n",
    "print(\"Classification report:\\n\",metrics.classification_report(y_test,y_pred))\n",
    "print(\"Confusion Matrix:\\n\",metrics.confusion_matrix(y_test,y_pred))"
   ]
  },
  {
   "cell_type": "code",
   "execution_count": 111,
   "id": "7dba1d5b",
   "metadata": {},
   "outputs": [
    {
     "data": {
      "text/plain": [
       "array([[ 1.30923695,  0.48148148,  1.34722222, ...,  0.18888889,\n",
       "         0.        ,  0.        ],\n",
       "       [-0.0562249 ,  0.79012346,  0.11111111, ..., -0.83333333,\n",
       "         0.        ,  0.        ],\n",
       "       [-0.63052209,  0.34567901,  0.04166667, ..., -0.88888889,\n",
       "         0.        ,  0.        ],\n",
       "       ...,\n",
       "       [ 1.16465863,  1.37037037, -4.88888889, ..., -0.15555556,\n",
       "         1.64      ,  0.        ],\n",
       "       [-0.49799197,  1.39506173, -4.88888889, ..., -0.11111111,\n",
       "         1.57      ,  0.        ],\n",
       "       [-0.25702811,  1.20987654, -4.88888889, ...,  0.04444444,\n",
       "         1.67      ,  0.        ]])"
      ]
     },
     "execution_count": 111,
     "metadata": {},
     "output_type": "execute_result"
    }
   ],
   "source": [
    "# Robust Scaling to handle the presences of outliers in our data.\n",
    "from sklearn.preprocessing import RobustScaler\n",
    "scaler=RobustScaler()\n",
    "scaler.fit(X)\n",
    "scaler.transform(X)"
   ]
  },
  {
   "cell_type": "code",
   "execution_count": 112,
   "id": "7b7f3883",
   "metadata": {},
   "outputs": [],
   "source": [
    "x_train,x_test,y_train,y_test = train_test_split(X,Y,test_size=0.2,\n",
    "                                                 random_state=42)\n",
    "classifier=KNeighborsClassifier(n_neighbors=17)\n",
    "classifier.fit(x_train,y_train)\n",
    "y_pred=classifier.predict(x_test)"
   ]
  },
  {
   "cell_type": "code",
   "execution_count": 113,
   "id": "5f0bf0d1",
   "metadata": {},
   "outputs": [
    {
     "name": "stdout",
     "output_type": "stream",
     "text": [
      "Model Accuracy:\n",
      " 0.7105263157894737\n",
      "Classification report:\n",
      "               precision    recall  f1-score   support\n",
      "\n",
      "           1       0.78      0.82      0.80        17\n",
      "           2       0.59      0.91      0.71        11\n",
      "           3       0.00      0.00      0.00         4\n",
      "           5       1.00      0.33      0.50         3\n",
      "           6       0.00      0.00      0.00         1\n",
      "           7       1.00      1.00      1.00         2\n",
      "\n",
      "    accuracy                           0.71        38\n",
      "   macro avg       0.56      0.51      0.50        38\n",
      "weighted avg       0.65      0.71      0.66        38\n",
      "\n",
      "Confusion Matrix:\n",
      " [[14  3  0  0  0  0]\n",
      " [ 1 10  0  0  0  0]\n",
      " [ 2  2  0  0  0  0]\n",
      " [ 0  2  0  1  0  0]\n",
      " [ 1  0  0  0  0  0]\n",
      " [ 0  0  0  0  0  2]]\n"
     ]
    }
   ],
   "source": [
    "print(\"Model Accuracy:\\n\",metrics.accuracy_score(y_test,y_pred))\n",
    "print(\"Classification report:\\n\",metrics.classification_report(y_test,y_pred))\n",
    "print(\"Confusion Matrix:\\n\",metrics.confusion_matrix(y_test,y_pred))"
   ]
  },
  {
   "cell_type": "code",
   "execution_count": 114,
   "id": "28babf61",
   "metadata": {},
   "outputs": [
    {
     "data": {
      "text/plain": [
       "array([[0.56722151, 0.63349515, 1.        , ..., 0.22814208, 0.        ,\n",
       "        0.        ],\n",
       "       [0.34955186, 0.69417476, 0.80178174, ..., 0.10245902, 0.        ,\n",
       "        0.        ],\n",
       "       [0.25800256, 0.60679612, 0.79064588, ..., 0.09562842, 0.        ,\n",
       "        0.        ],\n",
       "       ...,\n",
       "       [0.54417414, 0.80825243, 0.        , ..., 0.18579235, 0.95906433,\n",
       "        0.        ],\n",
       "       [0.27912932, 0.8131068 , 0.        , ..., 0.19125683, 0.91812865,\n",
       "        0.        ],\n",
       "       [0.31754161, 0.77669903, 0.        , ..., 0.21038251, 0.97660819,\n",
       "        0.        ]])"
      ]
     },
     "execution_count": 114,
     "metadata": {},
     "output_type": "execute_result"
    }
   ],
   "source": [
    "from sklearn.preprocessing import MinMaxScaler\n",
    "scaler=MinMaxScaler()\n",
    "scaler.fit(X)\n",
    "scaler.transform(X)"
   ]
  },
  {
   "cell_type": "code",
   "execution_count": 115,
   "id": "1a60ec1e",
   "metadata": {},
   "outputs": [],
   "source": [
    "x_train,x_test,y_train,y_test = train_test_split(X,Y,test_size=0.2,\n",
    "                                                 random_state=42)\n",
    "classifier=KNeighborsClassifier(n_neighbors=17)\n",
    "classifier.fit(x_train,y_train)\n",
    "y_pred=classifier.predict(x_test)"
   ]
  },
  {
   "cell_type": "code",
   "execution_count": 116,
   "id": "ad2a1c67",
   "metadata": {},
   "outputs": [
    {
     "name": "stdout",
     "output_type": "stream",
     "text": [
      "Model Accuracy:\n",
      " 0.7105263157894737\n",
      "Classification report:\n",
      "               precision    recall  f1-score   support\n",
      "\n",
      "           1       0.78      0.82      0.80        17\n",
      "           2       0.59      0.91      0.71        11\n",
      "           3       0.00      0.00      0.00         4\n",
      "           5       1.00      0.33      0.50         3\n",
      "           6       0.00      0.00      0.00         1\n",
      "           7       1.00      1.00      1.00         2\n",
      "\n",
      "    accuracy                           0.71        38\n",
      "   macro avg       0.56      0.51      0.50        38\n",
      "weighted avg       0.65      0.71      0.66        38\n",
      "\n",
      "Confusion Matrix:\n",
      " [[14  3  0  0  0  0]\n",
      " [ 1 10  0  0  0  0]\n",
      " [ 2  2  0  0  0  0]\n",
      " [ 0  2  0  1  0  0]\n",
      " [ 1  0  0  0  0  0]\n",
      " [ 0  0  0  0  0  2]]\n"
     ]
    }
   ],
   "source": [
    "print(\"Model Accuracy:\\n\",metrics.accuracy_score(y_test,y_pred))\n",
    "print(\"Classification report:\\n\",metrics.classification_report(y_test,y_pred))\n",
    "print(\"Confusion Matrix:\\n\",metrics.confusion_matrix(y_test,y_pred))"
   ]
  },
  {
   "cell_type": "markdown",
   "id": "d5330b88",
   "metadata": {},
   "source": [
    "### GridCV to Tune Hyperparameters of my KNN model."
   ]
  },
  {
   "cell_type": "code",
   "execution_count": 117,
   "id": "f678a964",
   "metadata": {},
   "outputs": [
    {
     "name": "stdout",
     "output_type": "stream",
     "text": [
      "Fitting 10 folds for each of 30 candidates, totalling 300 fits\n"
     ]
    }
   ],
   "source": [
    "from sklearn.model_selection import GridSearchCV\n",
    "k_range=list(range(1,31))\n",
    "param_grid=dict(n_neighbors=k_range)\n",
    "\n",
    "# defining parameter range\n",
    "grid=GridSearchCV(classifier,param_grid,cv=10,scoring='accuracy', return_train_score=False,verbose=1)\n",
    "grid_search=grid.fit(x_train,y_train)"
   ]
  },
  {
   "cell_type": "code",
   "execution_count": 118,
   "id": "40f9478a",
   "metadata": {},
   "outputs": [
    {
     "name": "stdout",
     "output_type": "stream",
     "text": [
      "{'n_neighbors': 1}\n"
     ]
    }
   ],
   "source": [
    "print(grid_search.best_params_)"
   ]
  },
  {
   "cell_type": "code",
   "execution_count": 119,
   "id": "3064522f",
   "metadata": {},
   "outputs": [
    {
     "name": "stdout",
     "output_type": "stream",
     "text": [
      "Accuracy for our training dataset with tuning is : 69.46%\n"
     ]
    }
   ],
   "source": [
    "accuracy = grid_search.best_score_ *100\n",
    "print(\"Accuracy for our training dataset with tuning is : {:.2f}%\".format(accuracy) )"
   ]
  }
 ],
 "metadata": {
  "kernelspec": {
   "display_name": "Python 3 (ipykernel)",
   "language": "python",
   "name": "python3"
  },
  "language_info": {
   "codemirror_mode": {
    "name": "ipython",
    "version": 3
   },
   "file_extension": ".py",
   "mimetype": "text/x-python",
   "name": "python",
   "nbconvert_exporter": "python",
   "pygments_lexer": "ipython3",
   "version": "3.9.12"
  }
 },
 "nbformat": 4,
 "nbformat_minor": 5
}
